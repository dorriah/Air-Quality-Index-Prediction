{
 "cells": [
  {
   "cell_type": "code",
   "execution_count": 1,
   "metadata": {
    "execution": {
     "iopub.execute_input": "2021-12-11T14:02:22.833590Z",
     "iopub.status.busy": "2021-12-11T14:02:22.833254Z",
     "iopub.status.idle": "2021-12-11T14:02:23.604755Z",
     "shell.execute_reply": "2021-12-11T14:02:23.603862Z",
     "shell.execute_reply.started": "2021-12-11T14:02:22.833544Z"
    }
   },
   "outputs": [],
   "source": [
    "import numpy as np\n",
    "import pandas as pd\n",
    "import matplotlib.pyplot as plt\n",
    "import seaborn as sns\n",
    "import time\n",
    "%matplotlib inline"
   ]
  },
  {
   "cell_type": "code",
   "execution_count": 2,
   "metadata": {},
   "outputs": [],
   "source": [
    "from joblib import parallel_backend\n",
    "from operator import neg"
   ]
  },
  {
   "cell_type": "code",
   "execution_count": 3,
   "metadata": {},
   "outputs": [],
   "source": [
    "start_time = time.time()"
   ]
  },
  {
   "cell_type": "code",
   "execution_count": 4,
   "metadata": {
    "execution": {
     "iopub.execute_input": "2021-12-11T14:02:39.445089Z",
     "iopub.status.busy": "2021-12-11T14:02:39.444775Z",
     "iopub.status.idle": "2021-12-11T14:02:40.687320Z",
     "shell.execute_reply": "2021-12-11T14:02:40.686443Z",
     "shell.execute_reply.started": "2021-12-11T14:02:39.445061Z"
    }
   },
   "outputs": [
    {
     "data": {
      "text/html": [
       "<div>\n",
       "<style scoped>\n",
       "    .dataframe tbody tr th:only-of-type {\n",
       "        vertical-align: middle;\n",
       "    }\n",
       "\n",
       "    .dataframe tbody tr th {\n",
       "        vertical-align: top;\n",
       "    }\n",
       "\n",
       "    .dataframe thead th {\n",
       "        text-align: right;\n",
       "    }\n",
       "</style>\n",
       "<table border=\"1\" class=\"dataframe\">\n",
       "  <thead>\n",
       "    <tr style=\"text-align: right;\">\n",
       "      <th></th>\n",
       "      <th>City</th>\n",
       "      <th>Datetime</th>\n",
       "      <th>PM2.5</th>\n",
       "      <th>PM10</th>\n",
       "      <th>NO</th>\n",
       "      <th>NO2</th>\n",
       "      <th>NOx</th>\n",
       "      <th>NH3</th>\n",
       "      <th>CO</th>\n",
       "      <th>SO2</th>\n",
       "      <th>O3</th>\n",
       "      <th>Benzene</th>\n",
       "      <th>Toluene</th>\n",
       "      <th>Xylene</th>\n",
       "      <th>AQI</th>\n",
       "      <th>AQI_Bucket</th>\n",
       "    </tr>\n",
       "  </thead>\n",
       "  <tbody>\n",
       "    <tr>\n",
       "      <th>0</th>\n",
       "      <td>Ahmedabad</td>\n",
       "      <td>2015-01-01 01:00:00</td>\n",
       "      <td>NaN</td>\n",
       "      <td>NaN</td>\n",
       "      <td>1.00</td>\n",
       "      <td>40.01</td>\n",
       "      <td>36.37</td>\n",
       "      <td>NaN</td>\n",
       "      <td>1.00</td>\n",
       "      <td>122.07</td>\n",
       "      <td>NaN</td>\n",
       "      <td>0.0</td>\n",
       "      <td>0.0</td>\n",
       "      <td>0.0</td>\n",
       "      <td>NaN</td>\n",
       "      <td>NaN</td>\n",
       "    </tr>\n",
       "    <tr>\n",
       "      <th>1</th>\n",
       "      <td>Ahmedabad</td>\n",
       "      <td>2015-01-01 02:00:00</td>\n",
       "      <td>NaN</td>\n",
       "      <td>NaN</td>\n",
       "      <td>0.02</td>\n",
       "      <td>27.75</td>\n",
       "      <td>19.73</td>\n",
       "      <td>NaN</td>\n",
       "      <td>0.02</td>\n",
       "      <td>85.90</td>\n",
       "      <td>NaN</td>\n",
       "      <td>0.0</td>\n",
       "      <td>0.0</td>\n",
       "      <td>0.0</td>\n",
       "      <td>NaN</td>\n",
       "      <td>NaN</td>\n",
       "    </tr>\n",
       "    <tr>\n",
       "      <th>2</th>\n",
       "      <td>Ahmedabad</td>\n",
       "      <td>2015-01-01 03:00:00</td>\n",
       "      <td>NaN</td>\n",
       "      <td>NaN</td>\n",
       "      <td>0.08</td>\n",
       "      <td>19.32</td>\n",
       "      <td>11.08</td>\n",
       "      <td>NaN</td>\n",
       "      <td>0.08</td>\n",
       "      <td>52.83</td>\n",
       "      <td>NaN</td>\n",
       "      <td>0.0</td>\n",
       "      <td>0.0</td>\n",
       "      <td>0.0</td>\n",
       "      <td>NaN</td>\n",
       "      <td>NaN</td>\n",
       "    </tr>\n",
       "    <tr>\n",
       "      <th>3</th>\n",
       "      <td>Ahmedabad</td>\n",
       "      <td>2015-01-01 04:00:00</td>\n",
       "      <td>NaN</td>\n",
       "      <td>NaN</td>\n",
       "      <td>0.30</td>\n",
       "      <td>16.45</td>\n",
       "      <td>9.20</td>\n",
       "      <td>NaN</td>\n",
       "      <td>0.30</td>\n",
       "      <td>39.53</td>\n",
       "      <td>153.58</td>\n",
       "      <td>0.0</td>\n",
       "      <td>0.0</td>\n",
       "      <td>0.0</td>\n",
       "      <td>NaN</td>\n",
       "      <td>NaN</td>\n",
       "    </tr>\n",
       "    <tr>\n",
       "      <th>4</th>\n",
       "      <td>Ahmedabad</td>\n",
       "      <td>2015-01-01 05:00:00</td>\n",
       "      <td>NaN</td>\n",
       "      <td>NaN</td>\n",
       "      <td>0.12</td>\n",
       "      <td>14.90</td>\n",
       "      <td>7.85</td>\n",
       "      <td>NaN</td>\n",
       "      <td>0.12</td>\n",
       "      <td>32.63</td>\n",
       "      <td>NaN</td>\n",
       "      <td>0.0</td>\n",
       "      <td>0.0</td>\n",
       "      <td>0.0</td>\n",
       "      <td>NaN</td>\n",
       "      <td>NaN</td>\n",
       "    </tr>\n",
       "  </tbody>\n",
       "</table>\n",
       "</div>"
      ],
      "text/plain": [
       "        City             Datetime  PM2.5  PM10    NO    NO2    NOx  NH3    CO  \\\n",
       "0  Ahmedabad  2015-01-01 01:00:00    NaN   NaN  1.00  40.01  36.37  NaN  1.00   \n",
       "1  Ahmedabad  2015-01-01 02:00:00    NaN   NaN  0.02  27.75  19.73  NaN  0.02   \n",
       "2  Ahmedabad  2015-01-01 03:00:00    NaN   NaN  0.08  19.32  11.08  NaN  0.08   \n",
       "3  Ahmedabad  2015-01-01 04:00:00    NaN   NaN  0.30  16.45   9.20  NaN  0.30   \n",
       "4  Ahmedabad  2015-01-01 05:00:00    NaN   NaN  0.12  14.90   7.85  NaN  0.12   \n",
       "\n",
       "      SO2      O3  Benzene  Toluene  Xylene  AQI AQI_Bucket  \n",
       "0  122.07     NaN      0.0      0.0     0.0  NaN        NaN  \n",
       "1   85.90     NaN      0.0      0.0     0.0  NaN        NaN  \n",
       "2   52.83     NaN      0.0      0.0     0.0  NaN        NaN  \n",
       "3   39.53  153.58      0.0      0.0     0.0  NaN        NaN  \n",
       "4   32.63     NaN      0.0      0.0     0.0  NaN        NaN  "
      ]
     },
     "execution_count": 4,
     "metadata": {},
     "output_type": "execute_result"
    }
   ],
   "source": [
    "df=pd.read_csv('city_hour.csv')\n",
    "df.head()"
   ]
  },
  {
   "cell_type": "markdown",
   "metadata": {},
   "source": [
    "AS INDEX IS MIXED WE NEED TO FIX THE INDEX "
   ]
  },
  {
   "cell_type": "code",
   "execution_count": 5,
   "metadata": {
    "execution": {
     "iopub.execute_input": "2021-12-11T14:02:51.241290Z",
     "iopub.status.busy": "2021-12-11T14:02:51.240958Z",
     "iopub.status.idle": "2021-12-11T14:02:51.263079Z",
     "shell.execute_reply": "2021-12-11T14:02:51.262235Z",
     "shell.execute_reply.started": "2021-12-11T14:02:51.241262Z"
    }
   },
   "outputs": [
    {
     "data": {
      "text/html": [
       "<div>\n",
       "<style scoped>\n",
       "    .dataframe tbody tr th:only-of-type {\n",
       "        vertical-align: middle;\n",
       "    }\n",
       "\n",
       "    .dataframe tbody tr th {\n",
       "        vertical-align: top;\n",
       "    }\n",
       "\n",
       "    .dataframe thead th {\n",
       "        text-align: right;\n",
       "    }\n",
       "</style>\n",
       "<table border=\"1\" class=\"dataframe\">\n",
       "  <thead>\n",
       "    <tr style=\"text-align: right;\">\n",
       "      <th></th>\n",
       "      <th>City</th>\n",
       "      <th>Datetime</th>\n",
       "      <th>PM2.5</th>\n",
       "      <th>PM10</th>\n",
       "      <th>NO</th>\n",
       "      <th>NO2</th>\n",
       "      <th>NOx</th>\n",
       "      <th>NH3</th>\n",
       "      <th>CO</th>\n",
       "      <th>SO2</th>\n",
       "      <th>O3</th>\n",
       "      <th>Benzene</th>\n",
       "      <th>Toluene</th>\n",
       "      <th>Xylene</th>\n",
       "      <th>AQI</th>\n",
       "      <th>AQI_Bucket</th>\n",
       "    </tr>\n",
       "  </thead>\n",
       "  <tbody>\n",
       "    <tr>\n",
       "      <th>0</th>\n",
       "      <td>Ahmedabad</td>\n",
       "      <td>2015-01-01 01:00:00</td>\n",
       "      <td>NaN</td>\n",
       "      <td>NaN</td>\n",
       "      <td>1.00</td>\n",
       "      <td>40.01</td>\n",
       "      <td>36.37</td>\n",
       "      <td>NaN</td>\n",
       "      <td>1.00</td>\n",
       "      <td>122.07</td>\n",
       "      <td>NaN</td>\n",
       "      <td>0.0</td>\n",
       "      <td>0.0</td>\n",
       "      <td>0.0</td>\n",
       "      <td>NaN</td>\n",
       "      <td>NaN</td>\n",
       "    </tr>\n",
       "    <tr>\n",
       "      <th>1</th>\n",
       "      <td>Ahmedabad</td>\n",
       "      <td>2015-01-01 02:00:00</td>\n",
       "      <td>NaN</td>\n",
       "      <td>NaN</td>\n",
       "      <td>0.02</td>\n",
       "      <td>27.75</td>\n",
       "      <td>19.73</td>\n",
       "      <td>NaN</td>\n",
       "      <td>0.02</td>\n",
       "      <td>85.90</td>\n",
       "      <td>NaN</td>\n",
       "      <td>0.0</td>\n",
       "      <td>0.0</td>\n",
       "      <td>0.0</td>\n",
       "      <td>NaN</td>\n",
       "      <td>NaN</td>\n",
       "    </tr>\n",
       "    <tr>\n",
       "      <th>2</th>\n",
       "      <td>Ahmedabad</td>\n",
       "      <td>2015-01-01 03:00:00</td>\n",
       "      <td>NaN</td>\n",
       "      <td>NaN</td>\n",
       "      <td>0.08</td>\n",
       "      <td>19.32</td>\n",
       "      <td>11.08</td>\n",
       "      <td>NaN</td>\n",
       "      <td>0.08</td>\n",
       "      <td>52.83</td>\n",
       "      <td>NaN</td>\n",
       "      <td>0.0</td>\n",
       "      <td>0.0</td>\n",
       "      <td>0.0</td>\n",
       "      <td>NaN</td>\n",
       "      <td>NaN</td>\n",
       "    </tr>\n",
       "    <tr>\n",
       "      <th>3</th>\n",
       "      <td>Ahmedabad</td>\n",
       "      <td>2015-01-01 04:00:00</td>\n",
       "      <td>NaN</td>\n",
       "      <td>NaN</td>\n",
       "      <td>0.30</td>\n",
       "      <td>16.45</td>\n",
       "      <td>9.20</td>\n",
       "      <td>NaN</td>\n",
       "      <td>0.30</td>\n",
       "      <td>39.53</td>\n",
       "      <td>153.58</td>\n",
       "      <td>0.0</td>\n",
       "      <td>0.0</td>\n",
       "      <td>0.0</td>\n",
       "      <td>NaN</td>\n",
       "      <td>NaN</td>\n",
       "    </tr>\n",
       "    <tr>\n",
       "      <th>4</th>\n",
       "      <td>Ahmedabad</td>\n",
       "      <td>2015-01-01 05:00:00</td>\n",
       "      <td>NaN</td>\n",
       "      <td>NaN</td>\n",
       "      <td>0.12</td>\n",
       "      <td>14.90</td>\n",
       "      <td>7.85</td>\n",
       "      <td>NaN</td>\n",
       "      <td>0.12</td>\n",
       "      <td>32.63</td>\n",
       "      <td>NaN</td>\n",
       "      <td>0.0</td>\n",
       "      <td>0.0</td>\n",
       "      <td>0.0</td>\n",
       "      <td>NaN</td>\n",
       "      <td>NaN</td>\n",
       "    </tr>\n",
       "  </tbody>\n",
       "</table>\n",
       "</div>"
      ],
      "text/plain": [
       "        City             Datetime  PM2.5  PM10    NO    NO2    NOx  NH3    CO  \\\n",
       "0  Ahmedabad  2015-01-01 01:00:00    NaN   NaN  1.00  40.01  36.37  NaN  1.00   \n",
       "1  Ahmedabad  2015-01-01 02:00:00    NaN   NaN  0.02  27.75  19.73  NaN  0.02   \n",
       "2  Ahmedabad  2015-01-01 03:00:00    NaN   NaN  0.08  19.32  11.08  NaN  0.08   \n",
       "3  Ahmedabad  2015-01-01 04:00:00    NaN   NaN  0.30  16.45   9.20  NaN  0.30   \n",
       "4  Ahmedabad  2015-01-01 05:00:00    NaN   NaN  0.12  14.90   7.85  NaN  0.12   \n",
       "\n",
       "      SO2      O3  Benzene  Toluene  Xylene  AQI AQI_Bucket  \n",
       "0  122.07     NaN      0.0      0.0     0.0  NaN        NaN  \n",
       "1   85.90     NaN      0.0      0.0     0.0  NaN        NaN  \n",
       "2   52.83     NaN      0.0      0.0     0.0  NaN        NaN  \n",
       "3   39.53  153.58      0.0      0.0     0.0  NaN        NaN  \n",
       "4   32.63     NaN      0.0      0.0     0.0  NaN        NaN  "
      ]
     },
     "execution_count": 5,
     "metadata": {},
     "output_type": "execute_result"
    }
   ],
   "source": [
    "df.reset_index(drop=True,inplace=True)\n",
    "df.head()"
   ]
  },
  {
   "cell_type": "code",
   "execution_count": 6,
   "metadata": {
    "execution": {
     "iopub.execute_input": "2021-12-11T14:03:11.460434Z",
     "iopub.status.busy": "2021-12-11T14:03:11.460122Z",
     "iopub.status.idle": "2021-12-11T14:03:11.655338Z",
     "shell.execute_reply": "2021-12-11T14:03:11.654312Z",
     "shell.execute_reply.started": "2021-12-11T14:03:11.460405Z"
    }
   },
   "outputs": [
    {
     "data": {
      "text/plain": [
       "City               0\n",
       "Datetime           0\n",
       "PM2.5         145088\n",
       "PM10          296737\n",
       "NO            116632\n",
       "NO2           117122\n",
       "NOx           123224\n",
       "NH3           272542\n",
       "CO             86517\n",
       "SO2           130373\n",
       "O3            129208\n",
       "Benzene       163646\n",
       "Toluene       220607\n",
       "Xylene        455829\n",
       "AQI           129080\n",
       "AQI_Bucket    129080\n",
       "dtype: int64"
      ]
     },
     "execution_count": 6,
     "metadata": {},
     "output_type": "execute_result"
    }
   ],
   "source": [
    "df.isnull().sum()"
   ]
  },
  {
   "cell_type": "code",
   "execution_count": 7,
   "metadata": {
    "execution": {
     "iopub.execute_input": "2021-12-11T14:03:19.645168Z",
     "iopub.status.busy": "2021-12-11T14:03:19.644822Z",
     "iopub.status.idle": "2021-12-11T14:03:19.851713Z",
     "shell.execute_reply": "2021-12-11T14:03:19.850754Z",
     "shell.execute_reply.started": "2021-12-11T14:03:19.645138Z"
    }
   },
   "outputs": [
    {
     "name": "stdout",
     "output_type": "stream",
     "text": [
      "<class 'pandas.core.frame.DataFrame'>\n",
      "RangeIndex: 707875 entries, 0 to 707874\n",
      "Data columns (total 16 columns):\n",
      " #   Column      Non-Null Count   Dtype  \n",
      "---  ------      --------------   -----  \n",
      " 0   City        707875 non-null  object \n",
      " 1   Datetime    707875 non-null  object \n",
      " 2   PM2.5       562787 non-null  float64\n",
      " 3   PM10        411138 non-null  float64\n",
      " 4   NO          591243 non-null  float64\n",
      " 5   NO2         590753 non-null  float64\n",
      " 6   NOx         584651 non-null  float64\n",
      " 7   NH3         435333 non-null  float64\n",
      " 8   CO          621358 non-null  float64\n",
      " 9   SO2         577502 non-null  float64\n",
      " 10  O3          578667 non-null  float64\n",
      " 11  Benzene     544229 non-null  float64\n",
      " 12  Toluene     487268 non-null  float64\n",
      " 13  Xylene      252046 non-null  float64\n",
      " 14  AQI         578795 non-null  float64\n",
      " 15  AQI_Bucket  578795 non-null  object \n",
      "dtypes: float64(13), object(3)\n",
      "memory usage: 86.4+ MB\n"
     ]
    }
   ],
   "source": [
    "df.info()"
   ]
  },
  {
   "cell_type": "markdown",
   "metadata": {},
   "source": [
    "**DEALING WITH MISSING VALUES**"
   ]
  },
  {
   "cell_type": "code",
   "execution_count": 8,
   "metadata": {
    "execution": {
     "iopub.execute_input": "2021-12-11T14:03:27.374957Z",
     "iopub.status.busy": "2021-12-11T14:03:27.374616Z",
     "iopub.status.idle": "2021-12-11T14:03:27.503769Z",
     "shell.execute_reply": "2021-12-11T14:03:27.502932Z",
     "shell.execute_reply.started": "2021-12-11T14:03:27.374929Z"
    }
   },
   "outputs": [],
   "source": [
    "df['PM2.5']=df['PM2.5'].fillna(df['PM2.5'].mean())\n",
    "df['PM10']=df['PM10'].fillna(df['PM10'].mean())\n",
    "df['NO']=df['NO'].fillna(df['NO'].mean())\n",
    "df['NO2']=df['NO2'].fillna(df['NO2'].mean())\n",
    "df['NOx']=df['NOx'].fillna(df['NOx'].mean())\n",
    "df['NH3']=df['NH3'].fillna(df['NH3'].mean())\n",
    "df['CO']=df['CO'].fillna(df['CO'].mean())\n",
    "df['SO2']=df['SO2'].fillna(df['SO2'].mean())\n",
    "df['O3']=df['O3'].fillna(df['O3'].mean())\n",
    "df['Benzene']=df['Benzene'].fillna(df['Benzene'].mean())\n",
    "df['Toluene']=df['Toluene'].fillna(df['Toluene'].mean())\n",
    "df['Xylene']=df['Xylene'].fillna(df['Xylene'].mean())"
   ]
  },
  {
   "cell_type": "code",
   "execution_count": 9,
   "metadata": {},
   "outputs": [],
   "source": [
    "df.dropna(how='any', inplace=True)"
   ]
  },
  {
   "cell_type": "markdown",
   "metadata": {},
   "source": [
    "\n",
    "**FOR Missing VALUES : MEAN()**\n",
    "\n"
   ]
  },
  {
   "cell_type": "code",
   "execution_count": 10,
   "metadata": {
    "execution": {
     "iopub.execute_input": "2021-12-11T14:03:32.151756Z",
     "iopub.status.busy": "2021-12-11T14:03:32.151124Z",
     "iopub.status.idle": "2021-12-11T14:03:32.175547Z",
     "shell.execute_reply": "2021-12-11T14:03:32.174742Z",
     "shell.execute_reply.started": "2021-12-11T14:03:32.151719Z"
    }
   },
   "outputs": [
    {
     "data": {
      "text/html": [
       "<div>\n",
       "<style scoped>\n",
       "    .dataframe tbody tr th:only-of-type {\n",
       "        vertical-align: middle;\n",
       "    }\n",
       "\n",
       "    .dataframe tbody tr th {\n",
       "        vertical-align: top;\n",
       "    }\n",
       "\n",
       "    .dataframe thead th {\n",
       "        text-align: right;\n",
       "    }\n",
       "</style>\n",
       "<table border=\"1\" class=\"dataframe\">\n",
       "  <thead>\n",
       "    <tr style=\"text-align: right;\">\n",
       "      <th></th>\n",
       "      <th>City</th>\n",
       "      <th>Datetime</th>\n",
       "      <th>PM2.5</th>\n",
       "      <th>PM10</th>\n",
       "      <th>NO</th>\n",
       "      <th>NO2</th>\n",
       "      <th>NOx</th>\n",
       "      <th>NH3</th>\n",
       "      <th>CO</th>\n",
       "      <th>SO2</th>\n",
       "      <th>O3</th>\n",
       "      <th>Benzene</th>\n",
       "      <th>Toluene</th>\n",
       "      <th>Xylene</th>\n",
       "      <th>AQI</th>\n",
       "      <th>AQI_Bucket</th>\n",
       "    </tr>\n",
       "  </thead>\n",
       "  <tbody>\n",
       "    <tr>\n",
       "      <th>680</th>\n",
       "      <td>Ahmedabad</td>\n",
       "      <td>2015-01-29 09:00:00</td>\n",
       "      <td>80.47</td>\n",
       "      <td>119.075804</td>\n",
       "      <td>1.42</td>\n",
       "      <td>21.90</td>\n",
       "      <td>20.65</td>\n",
       "      <td>23.607959</td>\n",
       "      <td>1.42</td>\n",
       "      <td>32.26</td>\n",
       "      <td>46.71</td>\n",
       "      <td>0.0</td>\n",
       "      <td>0.0</td>\n",
       "      <td>2.07</td>\n",
       "      <td>288.0</td>\n",
       "      <td>Poor</td>\n",
       "    </tr>\n",
       "    <tr>\n",
       "      <th>681</th>\n",
       "      <td>Ahmedabad</td>\n",
       "      <td>2015-01-29 10:00:00</td>\n",
       "      <td>87.80</td>\n",
       "      <td>119.075804</td>\n",
       "      <td>2.03</td>\n",
       "      <td>19.87</td>\n",
       "      <td>22.22</td>\n",
       "      <td>23.607959</td>\n",
       "      <td>2.03</td>\n",
       "      <td>78.95</td>\n",
       "      <td>21.88</td>\n",
       "      <td>0.0</td>\n",
       "      <td>0.0</td>\n",
       "      <td>2.13</td>\n",
       "      <td>181.0</td>\n",
       "      <td>Moderate</td>\n",
       "    </tr>\n",
       "    <tr>\n",
       "      <th>682</th>\n",
       "      <td>Ahmedabad</td>\n",
       "      <td>2015-01-29 11:00:00</td>\n",
       "      <td>90.53</td>\n",
       "      <td>119.075804</td>\n",
       "      <td>1.72</td>\n",
       "      <td>20.11</td>\n",
       "      <td>22.12</td>\n",
       "      <td>23.607959</td>\n",
       "      <td>1.72</td>\n",
       "      <td>95.86</td>\n",
       "      <td>67.67</td>\n",
       "      <td>0.0</td>\n",
       "      <td>0.0</td>\n",
       "      <td>3.45</td>\n",
       "      <td>182.0</td>\n",
       "      <td>Moderate</td>\n",
       "    </tr>\n",
       "    <tr>\n",
       "      <th>683</th>\n",
       "      <td>Ahmedabad</td>\n",
       "      <td>2015-01-29 12:00:00</td>\n",
       "      <td>83.53</td>\n",
       "      <td>119.075804</td>\n",
       "      <td>0.75</td>\n",
       "      <td>16.35</td>\n",
       "      <td>16.48</td>\n",
       "      <td>23.607959</td>\n",
       "      <td>0.75</td>\n",
       "      <td>44.91</td>\n",
       "      <td>88.92</td>\n",
       "      <td>0.0</td>\n",
       "      <td>0.0</td>\n",
       "      <td>3.25</td>\n",
       "      <td>182.0</td>\n",
       "      <td>Moderate</td>\n",
       "    </tr>\n",
       "    <tr>\n",
       "      <th>684</th>\n",
       "      <td>Ahmedabad</td>\n",
       "      <td>2015-01-29 13:00:00</td>\n",
       "      <td>68.40</td>\n",
       "      <td>119.075804</td>\n",
       "      <td>0.58</td>\n",
       "      <td>13.73</td>\n",
       "      <td>12.50</td>\n",
       "      <td>23.607959</td>\n",
       "      <td>0.58</td>\n",
       "      <td>34.57</td>\n",
       "      <td>116.75</td>\n",
       "      <td>0.0</td>\n",
       "      <td>0.0</td>\n",
       "      <td>2.85</td>\n",
       "      <td>179.0</td>\n",
       "      <td>Moderate</td>\n",
       "    </tr>\n",
       "  </tbody>\n",
       "</table>\n",
       "</div>"
      ],
      "text/plain": [
       "          City             Datetime  PM2.5        PM10    NO    NO2    NOx  \\\n",
       "680  Ahmedabad  2015-01-29 09:00:00  80.47  119.075804  1.42  21.90  20.65   \n",
       "681  Ahmedabad  2015-01-29 10:00:00  87.80  119.075804  2.03  19.87  22.22   \n",
       "682  Ahmedabad  2015-01-29 11:00:00  90.53  119.075804  1.72  20.11  22.12   \n",
       "683  Ahmedabad  2015-01-29 12:00:00  83.53  119.075804  0.75  16.35  16.48   \n",
       "684  Ahmedabad  2015-01-29 13:00:00  68.40  119.075804  0.58  13.73  12.50   \n",
       "\n",
       "           NH3    CO    SO2      O3  Benzene  Toluene  Xylene    AQI  \\\n",
       "680  23.607959  1.42  32.26   46.71      0.0      0.0    2.07  288.0   \n",
       "681  23.607959  2.03  78.95   21.88      0.0      0.0    2.13  181.0   \n",
       "682  23.607959  1.72  95.86   67.67      0.0      0.0    3.45  182.0   \n",
       "683  23.607959  0.75  44.91   88.92      0.0      0.0    3.25  182.0   \n",
       "684  23.607959  0.58  34.57  116.75      0.0      0.0    2.85  179.0   \n",
       "\n",
       "    AQI_Bucket  \n",
       "680       Poor  \n",
       "681   Moderate  \n",
       "682   Moderate  \n",
       "683   Moderate  \n",
       "684   Moderate  "
      ]
     },
     "execution_count": 10,
     "metadata": {},
     "output_type": "execute_result"
    }
   ],
   "source": [
    "df.head()"
   ]
  },
  {
   "cell_type": "code",
   "execution_count": 11,
   "metadata": {
    "execution": {
     "iopub.execute_input": "2021-12-11T14:05:19.718261Z",
     "iopub.status.busy": "2021-12-11T14:05:19.717945Z",
     "iopub.status.idle": "2021-12-11T14:05:20.464342Z",
     "shell.execute_reply": "2021-12-11T14:05:20.463449Z",
     "shell.execute_reply.started": "2021-12-11T14:05:19.718232Z"
    }
   },
   "outputs": [
    {
     "data": {
      "text/html": [
       "<div>\n",
       "<style scoped>\n",
       "    .dataframe tbody tr th:only-of-type {\n",
       "        vertical-align: middle;\n",
       "    }\n",
       "\n",
       "    .dataframe tbody tr th {\n",
       "        vertical-align: top;\n",
       "    }\n",
       "\n",
       "    .dataframe thead th {\n",
       "        text-align: right;\n",
       "    }\n",
       "</style>\n",
       "<table border=\"1\" class=\"dataframe\">\n",
       "  <thead>\n",
       "    <tr style=\"text-align: right;\">\n",
       "      <th></th>\n",
       "      <th>PM2.5</th>\n",
       "      <th>PM10</th>\n",
       "      <th>NO</th>\n",
       "      <th>NO2</th>\n",
       "      <th>NOx</th>\n",
       "      <th>NH3</th>\n",
       "      <th>CO</th>\n",
       "      <th>SO2</th>\n",
       "      <th>O3</th>\n",
       "      <th>Benzene</th>\n",
       "      <th>Toluene</th>\n",
       "      <th>Xylene</th>\n",
       "      <th>AQI</th>\n",
       "    </tr>\n",
       "  </thead>\n",
       "  <tbody>\n",
       "    <tr>\n",
       "      <th>680</th>\n",
       "      <td>80.47</td>\n",
       "      <td>119.075804</td>\n",
       "      <td>1.42</td>\n",
       "      <td>21.90</td>\n",
       "      <td>20.65</td>\n",
       "      <td>23.607959</td>\n",
       "      <td>1.42</td>\n",
       "      <td>32.26</td>\n",
       "      <td>46.71</td>\n",
       "      <td>0.0</td>\n",
       "      <td>0.0</td>\n",
       "      <td>2.07</td>\n",
       "      <td>288.0</td>\n",
       "    </tr>\n",
       "    <tr>\n",
       "      <th>681</th>\n",
       "      <td>87.80</td>\n",
       "      <td>119.075804</td>\n",
       "      <td>2.03</td>\n",
       "      <td>19.87</td>\n",
       "      <td>22.22</td>\n",
       "      <td>23.607959</td>\n",
       "      <td>2.03</td>\n",
       "      <td>78.95</td>\n",
       "      <td>21.88</td>\n",
       "      <td>0.0</td>\n",
       "      <td>0.0</td>\n",
       "      <td>2.13</td>\n",
       "      <td>181.0</td>\n",
       "    </tr>\n",
       "    <tr>\n",
       "      <th>682</th>\n",
       "      <td>90.53</td>\n",
       "      <td>119.075804</td>\n",
       "      <td>1.72</td>\n",
       "      <td>20.11</td>\n",
       "      <td>22.12</td>\n",
       "      <td>23.607959</td>\n",
       "      <td>1.72</td>\n",
       "      <td>95.86</td>\n",
       "      <td>67.67</td>\n",
       "      <td>0.0</td>\n",
       "      <td>0.0</td>\n",
       "      <td>3.45</td>\n",
       "      <td>182.0</td>\n",
       "    </tr>\n",
       "    <tr>\n",
       "      <th>683</th>\n",
       "      <td>83.53</td>\n",
       "      <td>119.075804</td>\n",
       "      <td>0.75</td>\n",
       "      <td>16.35</td>\n",
       "      <td>16.48</td>\n",
       "      <td>23.607959</td>\n",
       "      <td>0.75</td>\n",
       "      <td>44.91</td>\n",
       "      <td>88.92</td>\n",
       "      <td>0.0</td>\n",
       "      <td>0.0</td>\n",
       "      <td>3.25</td>\n",
       "      <td>182.0</td>\n",
       "    </tr>\n",
       "    <tr>\n",
       "      <th>684</th>\n",
       "      <td>68.40</td>\n",
       "      <td>119.075804</td>\n",
       "      <td>0.58</td>\n",
       "      <td>13.73</td>\n",
       "      <td>12.50</td>\n",
       "      <td>23.607959</td>\n",
       "      <td>0.58</td>\n",
       "      <td>34.57</td>\n",
       "      <td>116.75</td>\n",
       "      <td>0.0</td>\n",
       "      <td>0.0</td>\n",
       "      <td>2.85</td>\n",
       "      <td>179.0</td>\n",
       "    </tr>\n",
       "  </tbody>\n",
       "</table>\n",
       "</div>"
      ],
      "text/plain": [
       "     PM2.5        PM10    NO    NO2    NOx        NH3    CO    SO2      O3  \\\n",
       "680  80.47  119.075804  1.42  21.90  20.65  23.607959  1.42  32.26   46.71   \n",
       "681  87.80  119.075804  2.03  19.87  22.22  23.607959  2.03  78.95   21.88   \n",
       "682  90.53  119.075804  1.72  20.11  22.12  23.607959  1.72  95.86   67.67   \n",
       "683  83.53  119.075804  0.75  16.35  16.48  23.607959  0.75  44.91   88.92   \n",
       "684  68.40  119.075804  0.58  13.73  12.50  23.607959  0.58  34.57  116.75   \n",
       "\n",
       "     Benzene  Toluene  Xylene    AQI  \n",
       "680      0.0      0.0    2.07  288.0  \n",
       "681      0.0      0.0    2.13  181.0  \n",
       "682      0.0      0.0    3.45  182.0  \n",
       "683      0.0      0.0    3.25  182.0  \n",
       "684      0.0      0.0    2.85  179.0  "
      ]
     },
     "execution_count": 11,
     "metadata": {},
     "output_type": "execute_result"
    }
   ],
   "source": [
    "df.drop(['Datetime'],axis=1,inplace=True)\n",
    "df.drop(['AQI_Bucket'],axis=1,inplace=True)\n",
    "df.drop(['City'],axis=1,inplace=True)\n",
    "df.head()"
   ]
  },
  {
   "cell_type": "code",
   "execution_count": 12,
   "metadata": {
    "execution": {
     "iopub.execute_input": "2021-12-11T14:05:36.697257Z",
     "iopub.status.busy": "2021-12-11T14:05:36.696883Z",
     "iopub.status.idle": "2021-12-11T14:05:36.810188Z",
     "shell.execute_reply": "2021-12-11T14:05:36.809163Z",
     "shell.execute_reply.started": "2021-12-11T14:05:36.697225Z"
    }
   },
   "outputs": [
    {
     "data": {
      "text/html": [
       "<div>\n",
       "<style scoped>\n",
       "    .dataframe tbody tr th:only-of-type {\n",
       "        vertical-align: middle;\n",
       "    }\n",
       "\n",
       "    .dataframe tbody tr th {\n",
       "        vertical-align: top;\n",
       "    }\n",
       "\n",
       "    .dataframe thead th {\n",
       "        text-align: right;\n",
       "    }\n",
       "</style>\n",
       "<table border=\"1\" class=\"dataframe\">\n",
       "  <thead>\n",
       "    <tr style=\"text-align: right;\">\n",
       "      <th></th>\n",
       "      <th>PM2.5</th>\n",
       "      <th>PM10</th>\n",
       "      <th>NO</th>\n",
       "      <th>NO2</th>\n",
       "      <th>NOx</th>\n",
       "      <th>NH3</th>\n",
       "      <th>CO</th>\n",
       "      <th>SO2</th>\n",
       "      <th>O3</th>\n",
       "      <th>Benzene</th>\n",
       "      <th>Toluene</th>\n",
       "      <th>Xylene</th>\n",
       "      <th>AQI</th>\n",
       "    </tr>\n",
       "  </thead>\n",
       "  <tbody>\n",
       "    <tr>\n",
       "      <th>count</th>\n",
       "      <td>578795.000000</td>\n",
       "      <td>578795.000000</td>\n",
       "      <td>578795.000000</td>\n",
       "      <td>578795.000000</td>\n",
       "      <td>578795.000000</td>\n",
       "      <td>578795.000000</td>\n",
       "      <td>578795.000000</td>\n",
       "      <td>578795.000000</td>\n",
       "      <td>578795.000000</td>\n",
       "      <td>578795.000000</td>\n",
       "      <td>578795.000000</td>\n",
       "      <td>578795.000000</td>\n",
       "      <td>578795.000000</td>\n",
       "    </tr>\n",
       "    <tr>\n",
       "      <th>mean</th>\n",
       "      <td>67.512010</td>\n",
       "      <td>119.435100</td>\n",
       "      <td>17.500038</td>\n",
       "      <td>29.255534</td>\n",
       "      <td>32.337963</td>\n",
       "      <td>23.875553</td>\n",
       "      <td>2.272764</td>\n",
       "      <td>14.013576</td>\n",
       "      <td>35.220588</td>\n",
       "      <td>3.289538</td>\n",
       "      <td>9.286367</td>\n",
       "      <td>3.323889</td>\n",
       "      <td>166.413500</td>\n",
       "    </tr>\n",
       "    <tr>\n",
       "      <th>std</th>\n",
       "      <td>71.842035</td>\n",
       "      <td>86.606016</td>\n",
       "      <td>31.623087</td>\n",
       "      <td>28.706433</td>\n",
       "      <td>37.149991</td>\n",
       "      <td>24.544682</td>\n",
       "      <td>11.020058</td>\n",
       "      <td>18.528365</td>\n",
       "      <td>29.080926</td>\n",
       "      <td>15.570373</td>\n",
       "      <td>19.542961</td>\n",
       "      <td>5.050779</td>\n",
       "      <td>162.112729</td>\n",
       "    </tr>\n",
       "    <tr>\n",
       "      <th>min</th>\n",
       "      <td>0.010000</td>\n",
       "      <td>0.010000</td>\n",
       "      <td>0.010000</td>\n",
       "      <td>0.010000</td>\n",
       "      <td>0.000000</td>\n",
       "      <td>0.010000</td>\n",
       "      <td>0.000000</td>\n",
       "      <td>0.010000</td>\n",
       "      <td>0.010000</td>\n",
       "      <td>0.000000</td>\n",
       "      <td>0.000000</td>\n",
       "      <td>0.000000</td>\n",
       "      <td>8.000000</td>\n",
       "    </tr>\n",
       "    <tr>\n",
       "      <th>25%</th>\n",
       "      <td>27.300000</td>\n",
       "      <td>69.220000</td>\n",
       "      <td>4.000000</td>\n",
       "      <td>11.270000</td>\n",
       "      <td>11.960000</td>\n",
       "      <td>11.160000</td>\n",
       "      <td>0.510000</td>\n",
       "      <td>5.140000</td>\n",
       "      <td>14.530000</td>\n",
       "      <td>0.270000</td>\n",
       "      <td>1.370000</td>\n",
       "      <td>2.980000</td>\n",
       "      <td>79.000000</td>\n",
       "    </tr>\n",
       "    <tr>\n",
       "      <th>50%</th>\n",
       "      <td>49.220000</td>\n",
       "      <td>119.075804</td>\n",
       "      <td>8.300000</td>\n",
       "      <td>21.620000</td>\n",
       "      <td>23.270000</td>\n",
       "      <td>23.607959</td>\n",
       "      <td>0.880000</td>\n",
       "      <td>9.010000</td>\n",
       "      <td>28.550000</td>\n",
       "      <td>1.680000</td>\n",
       "      <td>6.610000</td>\n",
       "      <td>3.130537</td>\n",
       "      <td>116.000000</td>\n",
       "    </tr>\n",
       "    <tr>\n",
       "      <th>75%</th>\n",
       "      <td>76.780000</td>\n",
       "      <td>119.075804</td>\n",
       "      <td>17.421755</td>\n",
       "      <td>35.920000</td>\n",
       "      <td>34.970000</td>\n",
       "      <td>23.607959</td>\n",
       "      <td>1.570000</td>\n",
       "      <td>14.160000</td>\n",
       "      <td>46.370000</td>\n",
       "      <td>3.087595</td>\n",
       "      <td>8.660927</td>\n",
       "      <td>3.130537</td>\n",
       "      <td>208.000000</td>\n",
       "    </tr>\n",
       "    <tr>\n",
       "      <th>max</th>\n",
       "      <td>999.990000</td>\n",
       "      <td>1000.000000</td>\n",
       "      <td>498.970000</td>\n",
       "      <td>499.510000</td>\n",
       "      <td>498.610000</td>\n",
       "      <td>499.970000</td>\n",
       "      <td>498.570000</td>\n",
       "      <td>199.960000</td>\n",
       "      <td>497.620000</td>\n",
       "      <td>498.070000</td>\n",
       "      <td>499.400000</td>\n",
       "      <td>499.990000</td>\n",
       "      <td>3133.000000</td>\n",
       "    </tr>\n",
       "  </tbody>\n",
       "</table>\n",
       "</div>"
      ],
      "text/plain": [
       "               PM2.5           PM10             NO            NO2  \\\n",
       "count  578795.000000  578795.000000  578795.000000  578795.000000   \n",
       "mean       67.512010     119.435100      17.500038      29.255534   \n",
       "std        71.842035      86.606016      31.623087      28.706433   \n",
       "min         0.010000       0.010000       0.010000       0.010000   \n",
       "25%        27.300000      69.220000       4.000000      11.270000   \n",
       "50%        49.220000     119.075804       8.300000      21.620000   \n",
       "75%        76.780000     119.075804      17.421755      35.920000   \n",
       "max       999.990000    1000.000000     498.970000     499.510000   \n",
       "\n",
       "                 NOx            NH3             CO            SO2  \\\n",
       "count  578795.000000  578795.000000  578795.000000  578795.000000   \n",
       "mean       32.337963      23.875553       2.272764      14.013576   \n",
       "std        37.149991      24.544682      11.020058      18.528365   \n",
       "min         0.000000       0.010000       0.000000       0.010000   \n",
       "25%        11.960000      11.160000       0.510000       5.140000   \n",
       "50%        23.270000      23.607959       0.880000       9.010000   \n",
       "75%        34.970000      23.607959       1.570000      14.160000   \n",
       "max       498.610000     499.970000     498.570000     199.960000   \n",
       "\n",
       "                  O3        Benzene        Toluene         Xylene  \\\n",
       "count  578795.000000  578795.000000  578795.000000  578795.000000   \n",
       "mean       35.220588       3.289538       9.286367       3.323889   \n",
       "std        29.080926      15.570373      19.542961       5.050779   \n",
       "min         0.010000       0.000000       0.000000       0.000000   \n",
       "25%        14.530000       0.270000       1.370000       2.980000   \n",
       "50%        28.550000       1.680000       6.610000       3.130537   \n",
       "75%        46.370000       3.087595       8.660927       3.130537   \n",
       "max       497.620000     498.070000     499.400000     499.990000   \n",
       "\n",
       "                 AQI  \n",
       "count  578795.000000  \n",
       "mean      166.413500  \n",
       "std       162.112729  \n",
       "min         8.000000  \n",
       "25%        79.000000  \n",
       "50%       116.000000  \n",
       "75%       208.000000  \n",
       "max      3133.000000  "
      ]
     },
     "execution_count": 12,
     "metadata": {},
     "output_type": "execute_result"
    }
   ],
   "source": [
    "df.describe()"
   ]
  },
  {
   "cell_type": "markdown",
   "metadata": {},
   "source": [
    "**AS AQI IS DEPENDENT VARIABLE WE DROPING IT FROM DATASET AND PUTING IT IN Y**"
   ]
  },
  {
   "cell_type": "code",
   "execution_count": 13,
   "metadata": {
    "execution": {
     "iopub.execute_input": "2021-08-17T19:15:08.273246Z",
     "iopub.status.busy": "2021-08-17T19:15:08.272693Z",
     "iopub.status.idle": "2021-08-17T19:15:08.283048Z",
     "shell.execute_reply": "2021-08-17T19:15:08.281678Z",
     "shell.execute_reply.started": "2021-08-17T19:15:08.273198Z"
    }
   },
   "outputs": [
    {
     "name": "stdout",
     "output_type": "stream",
     "text": [
      "(578795, 12)\n",
      "(578795,)\n"
     ]
    }
   ],
   "source": [
    "X=df.drop(['AQI'],axis=1)\n",
    "y=df['AQI']\n",
    "print(X.shape)\n",
    "print(y.shape)"
   ]
  },
  {
   "cell_type": "code",
   "execution_count": 14,
   "metadata": {
    "execution": {
     "iopub.execute_input": "2021-08-17T19:20:56.861497Z",
     "iopub.status.busy": "2021-08-17T19:20:56.861143Z",
     "iopub.status.idle": "2021-08-17T19:20:56.869841Z",
     "shell.execute_reply": "2021-08-17T19:20:56.868818Z",
     "shell.execute_reply.started": "2021-08-17T19:20:56.861466Z"
    }
   },
   "outputs": [],
   "source": [
    "from sklearn.model_selection import train_test_split\n",
    "X_train,X_test,y_train,y_test = train_test_split(X,y,test_size=0.3)"
   ]
  },
  {
   "cell_type": "markdown",
   "metadata": {},
   "source": [
    "**Linear Regression**"
   ]
  },
  {
   "cell_type": "code",
   "execution_count": 15,
   "metadata": {},
   "outputs": [],
   "source": [
    "from sklearn.linear_model import LinearRegression\n",
    "model1=LinearRegression()"
   ]
  },
  {
   "cell_type": "code",
   "execution_count": 16,
   "metadata": {},
   "outputs": [],
   "source": [
    "start_time1 = time.time()\n",
    "with parallel_backend('loky'):\n",
    "    model1.fit(X_train,y_train)\n",
    "LR_time= time.time() - start_time1"
   ]
  },
  {
   "cell_type": "code",
   "execution_count": 17,
   "metadata": {},
   "outputs": [],
   "source": [
    "prediction1=model1.predict(X_test) "
   ]
  },
  {
   "cell_type": "code",
   "execution_count": 18,
   "metadata": {},
   "outputs": [
    {
     "name": "stdout",
     "output_type": "stream",
     "text": [
      " Linear Regression RSME= 104.22073074935776\n",
      " Linear Regression Time in seconds= 0.0485377311706543\n"
     ]
    }
   ],
   "source": [
    "#Root Mean Square Error\n",
    "from sklearn import metrics\n",
    "rs1=np.sqrt(metrics.mean_squared_error(y_test,prediction1))\n",
    "print(\" Linear Regression RMSE=\",rs1)\n",
    "print(\" Linear Regression Time in seconds=\",LR_time)"
   ]
  },
  {
   "cell_type": "markdown",
   "metadata": {},
   "source": [
    "**RANDOM FOREST REGRESSOR**"
   ]
  },
  {
   "cell_type": "code",
   "execution_count": 19,
   "metadata": {
    "execution": {
     "iopub.execute_input": "2021-08-17T19:20:57.457408Z",
     "iopub.status.busy": "2021-08-17T19:20:57.457072Z",
     "iopub.status.idle": "2021-08-17T19:20:59.192381Z",
     "shell.execute_reply": "2021-08-17T19:20:59.191422Z",
     "shell.execute_reply.started": "2021-08-17T19:20:57.45738Z"
    }
   },
   "outputs": [],
   "source": [
    "from sklearn.ensemble import RandomForestRegressor\n",
    "model2=RandomForestRegressor()"
   ]
  },
  {
   "cell_type": "code",
   "execution_count": 20,
   "metadata": {},
   "outputs": [],
   "source": [
    "start_time2 = time.time()\n",
    "with parallel_backend('loky'):\n",
    "    model2.fit(X_train,y_train)\n",
    "RF_time= time.time() - start_time2"
   ]
  },
  {
   "cell_type": "code",
   "execution_count": 21,
   "metadata": {},
   "outputs": [],
   "source": [
    "prediction2=model2.predict(X_test) "
   ]
  },
  {
   "cell_type": "code",
   "execution_count": 22,
   "metadata": {},
   "outputs": [
    {
     "name": "stdout",
     "output_type": "stream",
     "text": [
      " Rabdom Forest RSME= 80.03962571015872\n",
      " Rabdom Forest Time in seconds= 101.47873210906982\n"
     ]
    }
   ],
   "source": [
    "#Root Mean Square Error\n",
    "from sklearn import metrics\n",
    "rs2=np.sqrt(metrics.mean_squared_error(y_test,prediction2))\n",
    "print(\" Rabdom Forest RMSE=\",rs2)\n",
    "print(\" Rabdom Forest Time in seconds=\",RF_time)"
   ]
  },
  {
   "cell_type": "markdown",
   "metadata": {},
   "source": [
    "**GRADIENT BOOSTING REGRESSOR**"
   ]
  },
  {
   "cell_type": "code",
   "execution_count": 23,
   "metadata": {
    "execution": {
     "iopub.execute_input": "2021-08-17T19:21:08.371735Z",
     "iopub.status.busy": "2021-08-17T19:21:08.371395Z",
     "iopub.status.idle": "2021-08-17T19:21:08.869928Z",
     "shell.execute_reply": "2021-08-17T19:21:08.868982Z",
     "shell.execute_reply.started": "2021-08-17T19:21:08.371701Z"
    }
   },
   "outputs": [],
   "source": [
    "from sklearn.ensemble import GradientBoostingRegressor\n",
    "model3=GradientBoostingRegressor()"
   ]
  },
  {
   "cell_type": "code",
   "execution_count": 24,
   "metadata": {},
   "outputs": [],
   "source": [
    "start_time3 = time.time()\n",
    "with parallel_backend('loky'):\n",
    "    model3.fit(X_train,y_train)\n",
    "GB_time= time.time() - start_time3"
   ]
  },
  {
   "cell_type": "code",
   "execution_count": 25,
   "metadata": {},
   "outputs": [],
   "source": [
    "prediction3=model3.predict(X_test) "
   ]
  },
  {
   "cell_type": "code",
   "execution_count": 26,
   "metadata": {},
   "outputs": [
    {
     "name": "stdout",
     "output_type": "stream",
     "text": [
      " Gradient Boosting RSME= 92.91555798917858\n",
      " Gradient Boosting Time in seconds= 104.55764508247375\n"
     ]
    }
   ],
   "source": [
    "#Root Mean Square Error\n",
    "from sklearn import metrics\n",
    "rs3=np.sqrt(metrics.mean_squared_error(y_test,prediction3))\n",
    "print(\" Gradient Boosting RMSE=\",rs3)\n",
    "print(\" Gradient Boosting Time in seconds=\",GB_time)"
   ]
  },
  {
   "cell_type": "markdown",
   "metadata": {},
   "source": [
    "***Final Results***"
   ]
  },
  {
   "cell_type": "code",
   "execution_count": 27,
   "metadata": {},
   "outputs": [
    {
     "name": "stdout",
     "output_type": "stream",
     "text": [
      "We got following RMSE by applying different regression:\n",
      "\n",
      "\n",
      "Linear Regression= 104.22073074935776 time in seconds= 0.0485377311706543 \n",
      "\n",
      "Random Forest Regression= 80.03962571015872 time in seconds= 101.47873210906982 \n",
      "\n",
      "Gradient  BoostingRegression= 92.91555798917858 time in seconds= 104.55764508247375 \n",
      "\n"
     ]
    }
   ],
   "source": [
    "print(\"We got following RMSE by applying different regression:\\n\\n\")\n",
    "print(\"Linear Regression=\",rs1,'time in seconds=',LR_time,\"\\n\")\n",
    "print(\"Random Forest Regression=\",rs2,'time in seconds=',RF_time,\"\\n\")\n",
    "print(\"Gradient  BoostingRegression=\",rs3,'time in seconds=',GB_time,\"\\n\")"
   ]
  },
  {
   "cell_type": "code",
   "execution_count": 28,
   "metadata": {},
   "outputs": [
    {
     "name": "stdout",
     "output_type": "stream",
     "text": [
      "--- 224.90950798988342 total time in seconds ---\n"
     ]
    }
   ],
   "source": [
    "print(\"--- %s total time in seconds ---\" % (time.time() - start_time))"
   ]
  },
  {
   "cell_type": "code",
   "execution_count": null,
   "metadata": {},
   "outputs": [],
   "source": []
  }
 ],
 "metadata": {
  "kernelspec": {
   "display_name": "Python 3 (ipykernel)",
   "language": "python",
   "name": "python3"
  },
  "language_info": {
   "codemirror_mode": {
    "name": "ipython",
    "version": 3
   },
   "file_extension": ".py",
   "mimetype": "text/x-python",
   "name": "python",
   "nbconvert_exporter": "python",
   "pygments_lexer": "ipython3",
   "version": "3.9.9"
  }
 },
 "nbformat": 4,
 "nbformat_minor": 4
}
